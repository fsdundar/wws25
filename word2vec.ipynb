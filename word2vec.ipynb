{
 "cells": [
  {
   "cell_type": "markdown",
   "id": "4dd9e829-bc3b-4e19-b147-3a28c72e5c90",
   "metadata": {},
   "source": [
    "# Word2Vec Training\n",
    "\n",
    "* Author: Furkan Semih Dündar.\n",
    "\n",
    "* Date: 15 January 2025.\n",
    "\n",
    "* Notebook license: public domain."
   ]
  },
  {
   "cell_type": "code",
   "execution_count": 1,
   "id": "3025c8cb-be20-4917-8dc6-1fa3f07d220a",
   "metadata": {},
   "outputs": [],
   "source": [
    "from gensim.models import Word2Vec"
   ]
  },
  {
   "cell_type": "markdown",
   "id": "bc33332b-a59a-49c5-a94c-84ea959c990c",
   "metadata": {},
   "source": [
    "We import the sentences and create a list of sentences."
   ]
  },
  {
   "cell_type": "code",
   "execution_count": 3,
   "id": "5cadc786-3009-4d7d-b68b-b006db06160a",
   "metadata": {},
   "outputs": [],
   "source": [
    "Lsentences = []\n",
    "\n",
    "with open(\"./Lsentences.txt\", \"r\") as f:\n",
    "    for line in f:\n",
    "        Lsentences.append(line.strip().split())"
   ]
  },
  {
   "cell_type": "code",
   "execution_count": 4,
   "id": "ecfc9ba4-78c6-473e-8868-74d1be2ae178",
   "metadata": {},
   "outputs": [
    {
     "data": {
      "text/plain": [
       "956"
      ]
     },
     "execution_count": 4,
     "metadata": {},
     "output_type": "execute_result"
    }
   ],
   "source": [
    "len(Lsentences)"
   ]
  },
  {
   "cell_type": "markdown",
   "id": "759acc52-66b8-48ef-90cf-b3c3b5a3bee3",
   "metadata": {},
   "source": [
    "Let us train the model."
   ]
  },
  {
   "cell_type": "code",
   "execution_count": 5,
   "id": "13930089-e9c0-4022-9f5d-ab450f14e628",
   "metadata": {},
   "outputs": [],
   "source": [
    "model_2D = Word2Vec(Lsentences, vector_size = 2, window = 4, min_count = 1, workers = 4, sg = 0)"
   ]
  },
  {
   "cell_type": "markdown",
   "id": "aaa68bc8-ffe2-49b9-8696-55932851b8b2",
   "metadata": {},
   "source": [
    "We import the words and create a list of words."
   ]
  },
  {
   "cell_type": "code",
   "execution_count": 6,
   "id": "6d3c788d-0dbe-424f-81a3-94f1bc0b18dc",
   "metadata": {},
   "outputs": [],
   "source": [
    "Lwords = []\n",
    "\n",
    "with open(\"./Lwords.txt\", \"r\") as f:\n",
    "    for line in f:\n",
    "        Lwords.append(line.strip())"
   ]
  },
  {
   "cell_type": "code",
   "execution_count": 7,
   "id": "d16687ff-dfa5-4d68-a95f-97331085d3e6",
   "metadata": {},
   "outputs": [
    {
     "data": {
      "text/plain": [
       "95"
      ]
     },
     "execution_count": 7,
     "metadata": {},
     "output_type": "execute_result"
    }
   ],
   "source": [
    "len(Lwords)"
   ]
  },
  {
   "cell_type": "code",
   "execution_count": 8,
   "id": "6610aa82-90e2-4632-a022-d0df6dc4c07c",
   "metadata": {},
   "outputs": [],
   "source": [
    "def format_line(s, model, d):\n",
    "    l = s\n",
    "    v = model.wv[s]\n",
    "    for i in range(d):\n",
    "        l += ', ' + str(v[i])\n",
    "    \n",
    "    return l"
   ]
  },
  {
   "cell_type": "markdown",
   "id": "114f78ab-7091-4a0f-9692-1f55919c299e",
   "metadata": {},
   "source": [
    "We write the list of \"word, vec\" into a csv file."
   ]
  },
  {
   "cell_type": "code",
   "execution_count": 10,
   "id": "84d457d2-9c35-4684-a32b-c8c2fb32811a",
   "metadata": {},
   "outputs": [],
   "source": [
    "with open(\"./Lvectors.csv\", \"w\") as f:\n",
    "    for s in Lwords:\n",
    "        f.write(format_line(s, model_2D, 2) + \"\\n\")"
   ]
  }
 ],
 "metadata": {
  "kernelspec": {
   "display_name": "Python 3 (ipykernel)",
   "language": "python",
   "name": "python3"
  },
  "language_info": {
   "codemirror_mode": {
    "name": "ipython",
    "version": 3
   },
   "file_extension": ".py",
   "mimetype": "text/x-python",
   "name": "python",
   "nbconvert_exporter": "python",
   "pygments_lexer": "ipython3",
   "version": "3.12.8"
  }
 },
 "nbformat": 4,
 "nbformat_minor": 5
}
